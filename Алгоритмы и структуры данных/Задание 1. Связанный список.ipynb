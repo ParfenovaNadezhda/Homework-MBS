{
 "cells": [
  {
   "cell_type": "code",
   "execution_count": 2,
   "id": "bc25f770-c1fe-4750-8b8c-9bfc5d4efca9",
   "metadata": {},
   "outputs": [],
   "source": [
    "# Создаем класс для создания списка (2 ячейки - данные + указатель)\n",
    "# элемент списка\n",
    "class Node():\n",
    "    def __init__(self, data):\n",
    "        self.data = data\n",
    "        self.next = None\n",
    "        \n",
    "class LinkedList():\n",
    "    def __init__(self):\n",
    "        self.head = None # голова списка, только создался поэтому None\n",
    "        pass\n",
    "\n",
    "    def append(self, data): # добавляет в хвост элемент\n",
    "        new_node = Node(data)\n",
    "        if self.head is None:\n",
    "            self.head = new_node\n",
    "        else:\n",
    "            cur_node = self.head # текущий элемент\n",
    "            while cur_node.next is not None:\n",
    "                cur_node = cur_node.next\n",
    "            cur_node.next = new_node\n",
    "\n",
    "    def delete(self, k):# удаляет элемент под номером\n",
    "        if k == 0:\n",
    "            self.head = self.head.next\n",
    "        else:\n",
    "        \n",
    "            cur_node = self.head\n",
    "            i = 0\n",
    "            while i != k-1 and cur_node.next is not None:\n",
    "                cur_node = cur_node.next\n",
    "                i += 1\n",
    "    \n",
    "            if i == k-1 and cur_node.next is not None:\n",
    "                cur_node.next = cur_node.next.next\n",
    "            \n",
    "\n",
    "    def print(self):\n",
    "        cur_node = self.head # текущий элемент\n",
    "        while cur_node is not None:\n",
    "            print(cur_node.data)\n",
    "            cur_node = cur_node.next\n",
    "            \n",
    "# развернуть односвязанный список (голова - хвост, а должно стать хвост - голова)\n",
    "    def inverse(self):\n",
    "        cur_node = self.head\n",
    "        prev_node = None\n",
    "        while cur_node is not None: \n",
    "            n = cur_node.next \n",
    "            cur_node.next = prev_node\n",
    "            prev_node = cur_node\n",
    "            cur_node = n\n",
    "        self.head = prev_node\n",
    "            \n",
    "        \n",
    "\n"
   ]
  },
  {
   "cell_type": "code",
   "execution_count": 3,
   "id": "9cc0bf58-3051-41fa-bc62-dfc012fe9b3f",
   "metadata": {},
   "outputs": [],
   "source": [
    "l = LinkedList()"
   ]
  },
  {
   "cell_type": "code",
   "execution_count": 4,
   "id": "8ec0ba13-97b5-4b71-911f-7660574c7108",
   "metadata": {},
   "outputs": [],
   "source": [
    "l.append(0)\n",
    "l.append(1)\n",
    "l.append(2)\n",
    "l.append(3)\n",
    "l.append(4)\n",
    "l.append(5)"
   ]
  },
  {
   "cell_type": "code",
   "execution_count": 5,
   "id": "0df98a8d-07cb-490a-bf54-adada52cf80f",
   "metadata": {
    "scrolled": true
   },
   "outputs": [
    {
     "name": "stdout",
     "output_type": "stream",
     "text": [
      "0\n",
      "1\n",
      "2\n",
      "3\n",
      "4\n",
      "5\n"
     ]
    }
   ],
   "source": [
    "l.print()"
   ]
  },
  {
   "cell_type": "code",
   "execution_count": 6,
   "id": "60a9c83c-b2a7-4528-8d3a-23885421663a",
   "metadata": {},
   "outputs": [],
   "source": [
    "l.inverse()"
   ]
  },
  {
   "cell_type": "code",
   "execution_count": 7,
   "id": "3cd88b27-319e-4e5b-b636-45facb7eb2f8",
   "metadata": {},
   "outputs": [
    {
     "name": "stdout",
     "output_type": "stream",
     "text": [
      "5\n",
      "4\n",
      "3\n",
      "2\n",
      "1\n",
      "0\n"
     ]
    }
   ],
   "source": [
    "l.print()"
   ]
  },
  {
   "cell_type": "code",
   "execution_count": null,
   "id": "6faeb0b6-1f9f-4cbc-a293-ecd94c0b5424",
   "metadata": {},
   "outputs": [],
   "source": []
  }
 ],
 "metadata": {
  "kernelspec": {
   "display_name": "Python 3 (ipykernel)",
   "language": "python",
   "name": "python3"
  },
  "language_info": {
   "codemirror_mode": {
    "name": "ipython",
    "version": 3
   },
   "file_extension": ".py",
   "mimetype": "text/x-python",
   "name": "python",
   "nbconvert_exporter": "python",
   "pygments_lexer": "ipython3",
   "version": "3.12.4"
  }
 },
 "nbformat": 4,
 "nbformat_minor": 5
}
