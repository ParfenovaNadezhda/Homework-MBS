{
 "cells": [
  {
   "cell_type": "code",
   "execution_count": 17,
   "id": "4c46ca82-16a6-4c0d-ac32-88937d6e06c5",
   "metadata": {},
   "outputs": [],
   "source": [
    "import numpy as np"
   ]
  },
  {
   "cell_type": "code",
   "execution_count": 18,
   "id": "bb2b51ef-3ed7-446a-b5b2-daa5a4fa8b3b",
   "metadata": {},
   "outputs": [],
   "source": [
    "def bellman_ford(graph, start):\n",
    "    num_vertices = graph.shape[0] # количество вершин\n",
    "    \n",
    "    # Инициализация расстояний: все расстояния бесконечны, кроме стартовой вершины\n",
    "    distances = np.full(num_vertices, np.inf)\n",
    "    distances[start] = 0\n",
    "    \n",
    "    # Релаксация всех рёбер (V-1 раз)\n",
    "    for _ in range(num_vertices - 1):\n",
    "        for u in range(num_vertices):\n",
    "            for v in range(num_vertices): # перебор всех возможных рёбер u → v\n",
    "                if graph[u, v] != 0:  # Если есть ребро u → v\n",
    "                    if distances[u] + graph[u, v] < distances[v]:\n",
    "                        distances[v] = distances[u] + graph[u, v] # если найден более короткий путь в v через u, обновляем расстояние\n",
    "    \n",
    "    return distances"
   ]
  },
  {
   "cell_type": "code",
   "execution_count": 19,
   "id": "4f67f450-4e61-4aed-ade0-30be70f17377",
   "metadata": {},
   "outputs": [
    {
     "data": {
      "text/plain": [
       "array([ 0., -1.,  2., -2.,  1.])"
      ]
     },
     "execution_count": 19,
     "metadata": {},
     "output_type": "execute_result"
    }
   ],
   "source": [
    "a = np.array([\n",
    "    [0, -1, 4, 0, 0],\n",
    "    [0, 0, 3, 2, 2],\n",
    "    [0, 0, 0, 0, 0],\n",
    "    [0, 1, 5, 0, 0],\n",
    "    [0, 0, 0, -3, 0],\n",
    "])\n",
    "\n",
    "start = 0  # Начинаем с вершины 0\n",
    "bellman_ford(a, start)"
   ]
  },
  {
   "cell_type": "code",
   "execution_count": null,
   "id": "22725658-47f7-41ab-87fe-1c8185351196",
   "metadata": {},
   "outputs": [],
   "source": []
  }
 ],
 "metadata": {
  "kernelspec": {
   "display_name": "Python 3 (ipykernel)",
   "language": "python",
   "name": "python3"
  },
  "language_info": {
   "codemirror_mode": {
    "name": "ipython",
    "version": 3
   },
   "file_extension": ".py",
   "mimetype": "text/x-python",
   "name": "python",
   "nbconvert_exporter": "python",
   "pygments_lexer": "ipython3",
   "version": "3.12.4"
  }
 },
 "nbformat": 4,
 "nbformat_minor": 5
}
