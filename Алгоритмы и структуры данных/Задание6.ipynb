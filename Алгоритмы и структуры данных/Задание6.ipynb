{
 "cells": [
  {
   "cell_type": "code",
   "execution_count": 1,
   "id": "60d93d35-a727-4394-8038-baa66087a227",
   "metadata": {},
   "outputs": [],
   "source": [
    "from datetime import datetime"
   ]
  },
  {
   "cell_type": "code",
   "execution_count": 5,
   "id": "83625aed-7893-4ab6-89ed-7149a55dc74f",
   "metadata": {},
   "outputs": [],
   "source": [
    "def visitors(bookings):\n",
    "    arr_and_dep = [] # Создаём пустой список для хранения заездов и отъездов\n",
    "    for arrival, departure in bookings:\n",
    "        arrival_date = datetime.strptime(arrival, \"%Y-%m-%d\").date() # Преобразуем строку с датой заезда в объект date\n",
    "        departure_date = datetime.strptime(departure, \"%Y-%m-%d\").date()\n",
    "        arr_and_dep.append((arrival_date, 1))    # +1 при заезде\n",
    "        arr_and_dep.append((departure_date, -1)) # -1 при отъезде\n",
    "    \n",
    "    # Сортируем события: сначала по дате, затем отъезды перед заездами\n",
    "    arr_and_dep.sort(key=lambda x: (x[0], x[1])) # cортируем сначала по дате (x[0]), затем по отъезд или заезд (x[1])\n",
    "    \n",
    "    max_visitors = 0\n",
    "    cur_visitors = 0\n",
    "    max_days = []  # Теперь храним список дней с максимумом\n",
    "    \n",
    "    for day, change in arr_and_dep:\n",
    "        cur_visitors += change # Обновляем текущее количество гостей, добавляя change (+1 или -1).\n",
    "        \n",
    "        # Если нашли новый максимум, очищаем старый список и добавляем день\n",
    "        if cur_visitors > max_visitors:\n",
    "            max_visitors = cur_visitors\n",
    "            max_days = [day]  # Начинаем новый список\n",
    "        \n",
    "        # Если текущее значение равно максимуму, добавляем день в список\n",
    "        elif cur_visitors == max_visitors:\n",
    "            max_days.append(day)\n",
    "    \n",
    "    return max_days, max_visitors\n",
    "\n"
   ]
  },
  {
   "cell_type": "code",
   "execution_count": 6,
   "id": "b1c47552-823a-42ab-9af4-8c78bb8bc00c",
   "metadata": {},
   "outputs": [
    {
     "name": "stdout",
     "output_type": "stream",
     "text": [
      "Максимальное число гостей: 3\n",
      "Дни с максимумом: [datetime.date(2024, 9, 13), datetime.date(2024, 9, 14)]\n"
     ]
    }
   ],
   "source": [
    "# Пример использования:\n",
    "bookings = [\n",
    "    (\"2024-09-10\", \"2024-09-15\"),  # Гость 1\n",
    "    (\"2024-09-12\", \"2024-09-14\"),  # Гость 2\n",
    "    (\"2024-09-13\", \"2024-09-16\"),  # Гость 3\n",
    "    (\"2024-09-14\", \"2024-09-17\"),  # Гость 4\n",
    "]\n",
    "\n",
    "max_days, max_visitors = visitors(bookings)\n",
    "print(f\"Максимальное число гостей: {max_visitors}\")\n",
    "print(f\"Дни с максимумом: {max_days}\")"
   ]
  },
  {
   "cell_type": "code",
   "execution_count": null,
   "id": "471db9e0-6e9f-4241-b24d-433e6143f76a",
   "metadata": {},
   "outputs": [],
   "source": []
  }
 ],
 "metadata": {
  "kernelspec": {
   "display_name": "Python 3 (ipykernel)",
   "language": "python",
   "name": "python3"
  },
  "language_info": {
   "codemirror_mode": {
    "name": "ipython",
    "version": 3
   },
   "file_extension": ".py",
   "mimetype": "text/x-python",
   "name": "python",
   "nbconvert_exporter": "python",
   "pygments_lexer": "ipython3",
   "version": "3.12.4"
  }
 },
 "nbformat": 4,
 "nbformat_minor": 5
}
