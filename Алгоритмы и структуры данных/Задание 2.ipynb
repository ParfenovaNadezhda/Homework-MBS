{
 "cells": [
  {
   "cell_type": "code",
   "execution_count": 12,
   "id": "aca3fe6d-aefb-4bb7-8334-1a14e920ee9f",
   "metadata": {},
   "outputs": [
    {
     "name": "stdout",
     "output_type": "stream",
     "text": [
      "1 10\n",
      "1 10 9 8 7 6 5 4 3 2\n",
      "4 1 10 9 8 7 6 5 3 2\n"
     ]
    }
   ],
   "source": [
    "def main():\n",
    "    input_data = \"\"\"\n",
    "2\n",
    "1 100\n",
    "10\n",
    "1 2\n",
    "2 1\n",
    "3 1\n",
    "4 1\n",
    "5 1\n",
    "6 1\n",
    "7 1\n",
    "8 1\n",
    "9 1\n",
    "10 1\n",
    "4\n",
    "1 2\n",
    "1 10\n",
    "2 4 1 1000\n",
    "1 10\n",
    "\"\"\"\n",
    "    \n",
    "    data = input_data.split() # разбиваем input_data на список  по пробелам и переносу строк\n",
    "    cur = 0 # указатель для отслеживания текущей позиции в списке data\n",
    "    # Чтение параметров\n",
    "    n = int(data[cur]) # чтение количества признаков\n",
    "    cur += 1\n",
    "    \n",
    "    a = list(map(int, data[cur:cur + n])) # чтение весов признаков, читаем следующие n элементов\n",
    "    cur += n\n",
    "    \n",
    "    d = int(data[cur]) # чтение количества объектов\n",
    "    cur += 1\n",
    "    \n",
    "    objects = [] # для хранения признаков каждого объекта\n",
    "    relevance = [] # для хранения релевантности каждого объекта\n",
    "    \n",
    "    # Чтение объектов\n",
    "    for _ in range(d):\n",
    "        features = list(map(int, data[cur:cur + n]))\n",
    "        cur += n\n",
    "        objects.append(features)\n",
    "        rel = sum(a[i] * features[i] for i in range(n))\n",
    "        relevance.append(rel)\n",
    "    \n",
    "    q = int(data[cur]) # чтение количества запросов\n",
    "    cur += 1\n",
    "    \n",
    "    # Обработка запросов\n",
    "    output = []\n",
    "    for _ in range(q):\n",
    "        cmd = data[cur] #читаем тип запроса\n",
    "        if cmd == '1':\n",
    "            # Запрос на вывод топ-k\n",
    "            k = int(data[cur + 1]) # читаем число k (сколько объектов вывести)\n",
    "            cur += 2\n",
    "            # Сортируем индексы по убыванию релевантности\n",
    "            sorted_indices = sorted(range(d), key=lambda x: -relevance[x])\n",
    "            top_k = [str(i + 1) for i in sorted_indices[:k]]\n",
    "            output.append(' '.join(top_k))\n",
    "        elif cmd == '2':\n",
    "            # Запрос на изменение признака\n",
    "            i = int(data[cur + 1]) - 1  # номер объекта\n",
    "            j = int(data[cur + 2]) - 1 # номер признака\n",
    "            v = int(data[cur + 3]) # новое значение\n",
    "            cur += 4\n",
    "            objects[i][j] = v\n",
    "            relevance[i] = sum(a[idx] * objects[i][idx] for idx in range(n))\n",
    "    \n",
    "    # Вывод результатов\n",
    "    print('\\n'.join(output))\n",
    "\n",
    "if __name__ == '__main__':\n",
    "    main()"
   ]
  },
  {
   "cell_type": "code",
   "execution_count": null,
   "id": "f3c0aaaf-b978-4083-a025-b4fbbe1c5e9c",
   "metadata": {},
   "outputs": [],
   "source": []
  }
 ],
 "metadata": {
  "kernelspec": {
   "display_name": "Python 3 (ipykernel)",
   "language": "python",
   "name": "python3"
  },
  "language_info": {
   "codemirror_mode": {
    "name": "ipython",
    "version": 3
   },
   "file_extension": ".py",
   "mimetype": "text/x-python",
   "name": "python",
   "nbconvert_exporter": "python",
   "pygments_lexer": "ipython3",
   "version": "3.12.4"
  }
 },
 "nbformat": 4,
 "nbformat_minor": 5
}
